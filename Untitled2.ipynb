{
  "nbformat": 4,
  "nbformat_minor": 0,
  "metadata": {
    "colab": {
      "provenance": [],
      "authorship_tag": "ABX9TyNCVDRTpcrR1YpoBX0N+mc3",
      "include_colab_link": true
    },
    "kernelspec": {
      "name": "python3",
      "display_name": "Python 3"
    },
    "language_info": {
      "name": "python"
    }
  },
  "cells": [
    {
      "cell_type": "markdown",
      "metadata": {
        "id": "view-in-github",
        "colab_type": "text"
      },
      "source": [
        "<a href=\"https://colab.research.google.com/github/Muslimah28/Praktikum_PBO/blob/main/Untitled2.ipynb\" target=\"_parent\"><img src=\"https://colab.research.google.com/assets/colab-badge.svg\" alt=\"Open In Colab\"/></a>"
      ]
    },
    {
      "cell_type": "code",
      "execution_count": 10,
      "metadata": {
        "colab": {
          "base_uri": "https://localhost:8080/"
        },
        "id": "-XDafAUX9_ZO",
        "outputId": "dc5453b4-5067-4976-e1bf-a4473dbfab42"
      },
      "outputs": [
        {
          "output_type": "stream",
          "name": "stdout",
          "text": [
            "Buddy\n",
            "Moy 4 Canine\n",
            "4\n",
            "Melky\n",
            "Soy\n",
            "Canine\n"
          ]
        }
      ],
      "source": [
        "class Dog:\n",
        "    species = \"Canine\"  # Class attribute\n",
        "\n",
        "    def __init__(self, name, age):\n",
        "        self.name = name  # Instance attribute\n",
        "        self.age = age  # Instance attribute\n",
        "\n",
        "# Creating an object of the Dog class\n",
        "dog1 = Dog(\"Buddy\", 3)\n",
        "\n",
        "print(dog1.name)\n",
        "dog2 = Dog(\"Moy\", 4)\n",
        "print(dog2.name, dog2.age, dog2.species)\n",
        "print(dog2. age)\n",
        "dog1.name= \"Melky\"\n",
        "print(dog1.name)\n",
        "dog2.name = \"Soy\"\n",
        "print(dog2.name)\n",
        "print(dog1.species)"
      ]
    }
  ]
}