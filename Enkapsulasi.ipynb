{
  "nbformat": 4,
  "nbformat_minor": 0,
  "metadata": {
    "colab": {
      "provenance": [],
      "authorship_tag": "ABX9TyPB/adS085XXz2k9OpLE7oZ",
      "include_colab_link": true
    },
    "kernelspec": {
      "name": "python3",
      "display_name": "Python 3"
    },
    "language_info": {
      "name": "python"
    }
  },
  "cells": [
    {
      "cell_type": "markdown",
      "metadata": {
        "id": "view-in-github",
        "colab_type": "text"
      },
      "source": [
        "<a href=\"https://colab.research.google.com/github/Muslimah28/Praktikum_PBO/blob/main/Enkapsulasi.ipynb\" target=\"_parent\"><img src=\"https://colab.research.google.com/assets/colab-badge.svg\" alt=\"Open In Colab\"/></a>"
      ]
    },
    {
      "cell_type": "code",
      "execution_count": 2,
      "metadata": {
        "colab": {
          "base_uri": "https://localhost:8080/"
        },
        "id": "vs-HF1urGL7V",
        "outputId": "a31d9e11-9d77-4bf4-c84f-2b3886c6037b"
      },
      "outputs": [
        {
          "output_type": "stream",
          "name": "stdout",
          "text": [
            "800.0\n"
          ]
        }
      ],
      "source": [
        "# enkapsulasi dengan private access modifier\n",
        "class pegawai:\n",
        "    def __init__(self, nama, salary):\n",
        "        self.nama=nama\n",
        "        self.gaji=salary\n",
        "        self.__gaji_final= self.gaji - (0.2 * self.gaji)\n",
        "\n",
        "    def showGajiFinal(self):\n",
        "        return self.__gaji_final\n",
        "\n",
        "obj1=pegawai(\"Agus\", 1000)\n",
        "print(obj1.showGajiFinal())"
      ]
    },
    {
      "cell_type": "code",
      "source": [
        "class Protected:\n",
        "  def __init__(self):\n",
        "    self._age = 30  # Protected attribute\n",
        "\n",
        "class Subclass(Protected):\n",
        "  def display_age(self):\n",
        "    print(self._age)  # Accessible in subclass\n",
        "\n",
        "obj = Subclass()\n",
        "obj.display_age()"
      ],
      "metadata": {
        "colab": {
          "base_uri": "https://localhost:8080/"
        },
        "id": "vauWXzQGHFkq",
        "outputId": "b32492b8-46a4-45e9-81d6-de57d83ba415"
      },
      "execution_count": 6,
      "outputs": [
        {
          "output_type": "stream",
          "name": "stdout",
          "text": [
            "30\n"
          ]
        }
      ]
    },
    {
      "cell_type": "code",
      "source": [
        "# enkapsulasi dengan public access modifier\n",
        "class pegawai:\n",
        "    def __init__(self, nama, salary):\n",
        "        self.nama=nama\n",
        "        self.gaji=salary\n",
        "        self.gaji_final= self.gaji - (0.2 * self.gaji)\n",
        "\n",
        "obj1 = pegawai(\"Agus\", 1000)\n",
        "print(obj1.gaji_final)\n",
        "\n",
        "obj1.gaji_final = 5000\n",
        "print(f\"Gaji final = {obj1.gaji_final}\")"
      ],
      "metadata": {
        "colab": {
          "base_uri": "https://localhost:8080/"
        },
        "id": "XqFYfYzEJVg2",
        "outputId": "246b2ae1-5981-4da3-a823-6c5e63720266"
      },
      "execution_count": 7,
      "outputs": [
        {
          "output_type": "stream",
          "name": "stdout",
          "text": [
            "800.0\n",
            "Gaji final = 5000\n"
          ]
        }
      ]
    }
  ]
}